{
 "cells": [
  {
   "cell_type": "markdown",
   "id": "1b7e756f-cdf2-4102-ae1e-fe8b43849c66",
   "metadata": {},
   "source": [
    "# I need a Game for Car \n",
    "\n",
    "when i input start print \"I'm ready to go \"\n",
    "\n",
    "when i input stop print \"Car stop\"\n",
    "\n",
    "when i input Quit stop the game \n",
    "\n",
    "and add help to help him in this choise if he didn't know --> like a massage to till him"
   ]
  },
  {
   "cell_type": "code",
   "execution_count": 1,
   "id": "44a17162-7f31-4ab6-98ab-acc9dea7eb06",
   "metadata": {},
   "outputs": [
    {
     "name": "stdin",
     "output_type": "stream",
     "text": [
      "enter a command ( start, stop ,quit ,help):  stop\n"
     ]
    },
    {
     "name": "stdout",
     "output_type": "stream",
     "text": [
      "stop the car \n"
     ]
    }
   ],
   "source": [
    "i = input(\"enter a command ( start, stop ,quit ,help): \") \n",
    "\n",
    "if i == \"start\":\n",
    "    print(\"i'm ready to go \")\n",
    "elif i == \"stop\":\n",
    "    print(\"stop the car \")\n",
    "elif i == \"quit\":\n",
    "    print(\"stop and quit the game \")\n",
    "\n",
    "elif i == \"help\":\n",
    "    print(\"start to start the car\\n stop to stop the car\\n quit to exit the game \")\n",
    "         \n"
   ]
  },
  {
   "cell_type": "markdown",
   "id": "66397f40-91a5-4c2b-a612-094a6732e697",
   "metadata": {},
   "source": [
    "# I need math game \n",
    "\n",
    "when i choise any number give my the maltiplcation of it like \n",
    "\n",
    "1*1=1\n",
    "\n",
    "1*2=2\n",
    "\n",
    "1*3=3\n",
    "\n",
    "so on ..."
   ]
  },
  {
   "cell_type": "code",
   "execution_count": null,
   "id": "b227b76d-7c48-4e6a-aa9d-e94c5f36a7df",
   "metadata": {},
   "outputs": [],
   "source": [
    "a = int(input(\"enter any number\"))\n",
    "b = int(input(\"enter any number\"))\n",
    "answer = a * b\n",
    "print (\"the result is \" ,answer)\n",
    "        "
   ]
  },
  {
   "cell_type": "markdown",
   "id": "713f9b31-0a7e-44a5-93c6-f2fb277d365e",
   "metadata": {},
   "source": [
    "# Note"
   ]
  },
  {
   "cell_type": "markdown",
   "id": "20ebb7a5-0599-4bd5-b3a3-ad40761943da",
   "metadata": {},
   "source": [
    "### To help you i need a class that have both this game and anther function in this class make me choise what i need to play the car game or math game "
   ]
  },
  {
   "cell_type": "code",
   "execution_count": null,
   "id": "81936a8b-030c-4dd7-8d4c-b7cddf0b80cd",
   "metadata": {},
   "outputs": [],
   "source": [
    "class games:\n",
    "    def __init__ (self,game1,game2):\n",
    "        self.game1=game1\n",
    "        self.game2=game2\n",
    "    def game1():\n",
    "        print(\"car_game\")\n",
    "        pass\n",
    "    \n",
    "    def game2():\n",
    "        print(\"math_game\")\n",
    "        pass\n",
    "    \n",
    "    choice = input(\"enter 1 for game1 and 2 for game2\")\n",
    "    if choice == \"1\":\n",
    "        print(\"this is a car game\")\n",
    "    elif choice == \"2\":\n",
    "        print(\"this is a math_game\")\n",
    "    else:\n",
    "        ( \"this game is invalid\")\n",
    "    \n",
    "\n",
    "    \n",
    "        \n",
    "    \n",
    "   \n",
    "    \n",
    "     "
   ]
  }
 ],
 "metadata": {
  "kernelspec": {
   "display_name": "Python 3 (ipykernel)",
   "language": "python",
   "name": "python3"
  },
  "language_info": {
   "codemirror_mode": {
    "name": "ipython",
    "version": 3
   },
   "file_extension": ".py",
   "mimetype": "text/x-python",
   "name": "python",
   "nbconvert_exporter": "python",
   "pygments_lexer": "ipython3",
   "version": "3.9.13"
  }
 },
 "nbformat": 4,
 "nbformat_minor": 5
}
